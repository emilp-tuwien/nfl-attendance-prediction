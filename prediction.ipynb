{
 "cells": [
  {
   "cell_type": "markdown",
   "id": "383c5e18",
   "metadata": {},
   "source": [
    "### Imports"
   ]
  },
  {
   "cell_type": "code",
   "execution_count": null,
   "id": "c7338c16",
   "metadata": {},
   "outputs": [],
   "source": [
    "import pandas as pd\n",
    "import kagglehub\n",
    "from sklearn.preprocessing import StandardScaler\n",
    "from sklearn.ensemble import RandomForestRegressor\n",
    "from sklearn.model_selection import GridSearchCV\n",
    "from sklearn.metrics import mean_absolute_error, mean_squared_error, r2_score\n",
    "import matplotlib.pyplot as plt\n",
    "from sklearn.metrics import mean_absolute_error, mean_absolute_percentage_error\n",
    "import vre_repository_connector as vrc\n",
    "import joblib \n",
    "import matplotlib.pyplot as plt\n",
    "from matplotlib.gridspec import GridSpec\n",
    "import pickle"
   ]
  },
  {
   "cell_type": "markdown",
   "id": "9331a15c",
   "metadata": {},
   "source": [
    "# MERGING"
   ]
  },
  {
   "cell_type": "code",
   "execution_count": null,
   "id": "548eb25e",
   "metadata": {},
   "outputs": [
    {
     "name": "stdout",
     "output_type": "stream",
     "text": [
      "Warning: Looks like you're using an outdated `kagglehub` version (installed: 0.3.11), please consider upgrading to the latest version (0.3.12).\n"
     ]
    }
   ],
   "source": [
    "# Download latest version\n",
    "path = kagglehub.dataset_download(\"sujaykapadnis/nfl-stadium-attendance-dataset\")\n",
    "\n",
    "# Load the dataframe from the file\n",
    "def load_data(name):\n",
    "    return pd.read_csv(f\"{path}/{name}\")\n",
    "\n",
    "attendance_df = load_data(\"attendance.csv\")\n",
    "standings_df = load_data(\"standings.csv\")\n",
    "games_df = load_data(\"games.csv\")\n",
    "\n",
    "##### BACKUP GITHUB STORAGE #####\n",
    "\n",
    "# attendance_df.to_csv('data/attendance.csv')\n",
    "# standings_df.to_csv('data/standings.csv')\n",
    "# games_df.to_csv('data/games.csv')\n",
    "\n",
    "##### Kaggle 404 ? #####\n",
    "\n",
    "# attendance_df = pd.read_csv('data/attendance.csv')\n",
    "#standings_df = pd.read_csv('data/standings.csv')\n",
    "#games_df = pd.read_csv('data/games.csv')\n",
    "\n",
    "##### BACKUP GITHUB STORAGE #####\n",
    "\n",
    "attendance_weekly_df = attendance_df[['team', 'team_name', 'year', 'week', 'weekly_attendance']]\n",
    "\n",
    "attendance_df = attendance_df.drop(columns=['weekly_attendance'])\n",
    "\n",
    "### ATTENDANCE\n",
    "# year was shitted by one year, so that last years standings will have influence on attendance\n",
    "attendance_df['year'] = attendance_df['year'] + 1\n",
    "\n",
    "attendance_df = attendance_df.merge(attendance_weekly_df, on=['team', 'team_name', 'year', 'week'], how='left')\n",
    "\n",
    "\n",
    "### STANDINGS\n",
    "# similar like above for standings\n",
    "standings_df['year'] = standings_df['year'] + 1\n",
    "\n",
    "attendance_standings_df = pd.merge(attendance_df, standings_df, on=['team', 'team_name', 'year'])\n",
    "\n",
    "attendance_standings_df['team_name'] = attendance_standings_df['team'] + ' ' + attendance_standings_df['team_name']\n",
    "\n",
    "### GAMES\n",
    "games_df = games_df[games_df['week'].str.isnumeric()]\n",
    "games_df['week'] = games_df['week'].astype(int)\n",
    "\n",
    "### MERGE\n",
    "\n",
    "df1 = attendance_standings_df.merge(games_df, left_on=['year', 'week', 'team_name'], right_on=['year', 'week', 'home_team'], how='inner')\n",
    "df2 = attendance_standings_df.merge(games_df, left_on=['year', 'week', 'team_name'], right_on=['year', 'week', 'away_team'], how='inner')\n",
    "\n",
    "df = df1.merge(df2, on=['year', 'week', 'home_team', 'away_team'], how='inner', suffixes=('_home', '_away'))\n",
    "\n",
    "df = df.drop(columns=['home_team', 'away_team', 'weekly_attendance_away', 'team_away'])\n",
    "df = df.rename(columns={'team_home': 'city'})"
   ]
  },
  {
   "cell_type": "code",
   "execution_count": null,
   "id": "dd8f215f",
   "metadata": {},
   "outputs": [],
   "source": [
    "# df.to_csv(\"data/merged_unprocessed.csv\", index=False)"
   ]
  },
  {
   "cell_type": "markdown",
   "id": "92b54cd3",
   "metadata": {},
   "source": [
    "# PREPROCESS"
   ]
  },
  {
   "cell_type": "code",
   "execution_count": 27,
   "id": "394e7ad3",
   "metadata": {},
   "outputs": [
    {
     "name": "stderr",
     "output_type": "stream",
     "text": [
      "/var/folders/db/djqfj81d1vs_17ntzp2n867m0000gn/T/ipykernel_79476/315123936.py:21: FutureWarning: Downcasting behavior in `replace` is deprecated and will be removed in a future version. To retain the old behavior, explicitly call `result.infer_objects(copy=False)`. To opt-in to the future behavior, set `pd.set_option('future.no_silent_downcasting', True)`\n",
      "  df = df.replace({ 'Playoffs': 1, 'No Playoffs': 0, 'Won Superbowl': 1, 'No Superbowl': 0 })\n",
      "/var/folders/db/djqfj81d1vs_17ntzp2n867m0000gn/T/ipykernel_79476/315123936.py:102: UserWarning: Boolean Series key will be reindexed to match DataFrame index.\n",
      "  season_stats_df[(season_stats_df['team_name'] == 'Arizona Cardinals')][season_stats_df['year'] == 2019]\n"
     ]
    }
   ],
   "source": [
    "duplicated_columns = ['winner', 'tie', 'day', 'date', 'time', 'pts_win', 'pts_loss', 'yds_win', 'turnovers_win', 'yds_loss', 'turnovers_loss', 'home_team_name', 'home_team_city', 'away_team_name', 'away_team_city', 'loss']\n",
    "duplicated_columns_away = list(map(lambda x: x + '_away', duplicated_columns))\n",
    "duplicated_columns_home = list(map(lambda x: x + '_home', duplicated_columns))\n",
    "\n",
    "duplicated_columns_mapping = dict(zip(duplicated_columns_home, duplicated_columns))\n",
    "\n",
    "df = df.drop(columns=duplicated_columns_away)\n",
    "df = df.rename(columns=duplicated_columns_mapping)\n",
    "\n",
    "columns_to_drop = ['total_home', 'away_home', 'date', 'time', 'city']\n",
    "\n",
    "columns_to_rename = {\n",
    "    'home_home': 'home_attendance_last_year_home',\n",
    "    'away_home': 'away_attendance_last_year_home',\n",
    "    'home_away': 'home_attendance_last_year_away',\n",
    "    'away_away': 'away_attendance_last_year_away',\n",
    "}\n",
    "\n",
    "df = df.drop(columns=columns_to_drop)\n",
    "df = df.rename(columns=columns_to_rename)\n",
    "df = df.replace({ 'Playoffs': 1, 'No Playoffs': 0, 'Won Superbowl': 1, 'No Superbowl': 0 })\n",
    "\n",
    "df[['playoffs_away', 'sb_winner_away', 'playoffs_home', 'sb_winner_home']] = df[['playoffs_away', 'sb_winner_away', 'playoffs_home', 'sb_winner_home']].astype(int)\n",
    "\n",
    "\n",
    "season_stats_df = pd.DataFrame(columns=['year', 'week', 'team_name', 'points', 'yards', 'turnovers', 'win', 'loss', 'tie'], dtype=int)\n",
    "season_stats_df['team_name'] = season_stats_df['team_name'].astype(str)\n",
    "\n",
    "for index, row in df.iterrows():\n",
    "    winning_team = row['winner']    \n",
    "    losing_team = row['team_name_away'] if winning_team == row['team_name_home'] else row['team_name_home']\n",
    "\n",
    "    for team in [winning_team, losing_team]:\n",
    "        season_stats_df.loc[len(season_stats_df)] = {\n",
    "            'year': row['year'],\n",
    "            'week': row['week'],\n",
    "            'team_name': team,\n",
    "            'points': row['pts_win'] if team == winning_team else row['pts_loss'],\n",
    "            'yards': row['yds_win'] if team == winning_team else row['yds_loss'],\n",
    "            'turnovers': row['turnovers_win'] if team == winning_team else row['turnovers_loss'],\n",
    "            'win': 1 if team == winning_team and pd.isna(row['tie']) else 0,\n",
    "            'loss': 1 if team == losing_team and pd.isna(row['tie']) else 0,\n",
    "            'tie': 1 if not pd.isna(row['tie'])  else 0\n",
    "        }\n",
    "\n",
    "min_year = season_stats_df['year'].min()\n",
    "max_year = season_stats_df['year'].max()\n",
    "teams = season_stats_df['team_name'].unique()\n",
    "\n",
    "# Fill in missing weeks with 0s\n",
    "for team in teams:\n",
    "    for year in range(min_year, max_year + 1):\n",
    "        for week in range(1, 18):\n",
    "            if len(season_stats_df[(season_stats_df['team_name'] == team) & (season_stats_df['year'] == year) & (season_stats_df['week'] == week)]) == 0:\n",
    "                season_stats_df.loc[len(season_stats_df)] = {\n",
    "                    'year': year,\n",
    "                    'week': week,\n",
    "                    'team_name': team,\n",
    "                    'points': 0,\n",
    "                    'yards': 0,\n",
    "                    'turnovers': 0,\n",
    "                    'win': 0,\n",
    "                    'loss': 0,\n",
    "                    'tie': 0\n",
    "                }\n",
    "\n",
    "\n",
    "# Group by years, and calculate running totals\n",
    "season_stats_df = season_stats_df.sort_values(by=['team_name', 'year', 'week'])\n",
    "season_stats_df['points'] = season_stats_df['points'].astype(int)\n",
    "season_stats_df['yards'] = season_stats_df['yards'].astype(int)\n",
    "season_stats_df['turnovers'] = season_stats_df['turnovers'].astype(int)\n",
    "season_stats_df['win'] = season_stats_df['win'].astype(int)\n",
    "season_stats_df['loss'] = season_stats_df['loss'].astype(int)\n",
    "season_stats_df['tie'] = season_stats_df['tie'].astype(int)\n",
    "\n",
    "season_stats_df['points'] = season_stats_df.groupby(['team_name', 'year'])['points'].cumsum()\n",
    "season_stats_df['yards'] = season_stats_df.groupby(['team_name', 'year'])['yards'].cumsum()\n",
    "season_stats_df['turnovers'] = season_stats_df.groupby(['team_name', 'year'])['turnovers'].cumsum()\n",
    "season_stats_df['win'] = season_stats_df.groupby(['team_name', 'year'])['win'].cumsum()\n",
    "season_stats_df['loss'] = season_stats_df.groupby(['team_name', 'year'])['loss'].cumsum()\n",
    "season_stats_df['tie'] = season_stats_df.groupby(['team_name', 'year'])['tie'].cumsum()\n",
    "\n",
    "\n",
    "season_stats_df['week'] = season_stats_df['week'] + 1\n",
    "# season_stats_df = season_stats_df[season_stats_df['week'] <= 17]\n",
    "\n",
    "for index, row in season_stats_df[season_stats_df['week'] == 18].iterrows():\n",
    "    season_stats_df.loc[index] = {\n",
    "        'year': row['year'],\n",
    "        'week': 1,\n",
    "        'team_name': row['team_name'],\n",
    "        'points': 0,\n",
    "        'yards': 0,\n",
    "        'turnovers': 0,\n",
    "        'win': 0,\n",
    "        'loss': 0,\n",
    "        'tie': 0\n",
    "    }\n",
    "\n",
    "season_stats_df = season_stats_df.sort_values(by=['team_name', 'year', 'week'])\n",
    "season_stats_df[(season_stats_df['team_name'] == 'Arizona Cardinals')][season_stats_df['year'] == 2019]\n",
    "games_columns_to_delete = ['winner', 'tie', 'day', 'pts_win', 'pts_loss', 'yds_win', 'turnovers_win', 'yds_loss', 'turnovers_loss', 'home_team_name', 'home_team_city', 'away_team_name', 'away_team_city']\n",
    "df = df.drop(columns=games_columns_to_delete)\n",
    "\n",
    "season_stats_df = season_stats_df.rename(columns={ 'team_name': 'team_name_home' })\n",
    "df = df.merge(season_stats_df, on=['team_name_home', 'year', 'week'], how='inner', suffixes=['', '_home'])\n",
    "\n",
    "season_stats_df = season_stats_df.rename(columns={ 'team_name_home': 'team_name_away' })\n",
    "df = df.merge(season_stats_df, on=['team_name_away', 'year', 'week'], how='inner', suffixes=['', '_away'])"
   ]
  },
  {
   "cell_type": "markdown",
   "id": "d7169ecc",
   "metadata": {},
   "source": [
    "### Dataset Description\n",
    "\n",
    "The table below describes the columns resulting from the merging and preprocessing of NFL game data. These features will be used to train a Random Forest regressor to predict home game attendance.\n",
    "\n",
    "| Column Name                    | Description                                                                 |\n",
    "|-------------------------------|-----------------------------------------------------------------------------|\n",
    "| `team_name_home`              | Name of the home team                                                       |\n",
    "| `team_name_away`              | Name of the away team                                                       |\n",
    "| `year`                        | Year the game was played                                                    |\n",
    "| `week`                        | Week of the season (1–17 regular season)                                    |\n",
    "| `weekly_attendance_home`      | **Target variable** – Number of attendees at the home game                  |\n",
    "| `points_for_home`             | Total points scored by the home team throughout the season                  |\n",
    "| `points_against_home`         | Total points allowed by the home team throughout the season                 |\n",
    "| `points_differential_home`    | Point difference for the home team across the season                        |\n",
    "| `simple_rating_home`          | Home team's overall performance rating, factoring in strength of schedule  |\n",
    "| `margin_of_victory_home`      | Average margin of victory for the home team                                 |\n",
    "| `wins_home`                   | Total wins by the home team                                                 |\n",
    "| `offensive_ranking_home`      | Offensive performance rank of the home team                                 |\n",
    "| `defensive_ranking_home`      | Defensive performance rank of the home team                                 |\n",
    "| `points_for_away`             | Total points scored by the away team throughout the season                  |\n",
    "| `points_against_away`         | Total points allowed by the away team throughout the season                 |\n",
    "| `points_differential_away`    | Point difference for the away team across the season                        |\n",
    "| `simple_rating_away`          | Away team's overall performance rating                                      |\n",
    "| `wins_away`                   | Total wins by the away team                                                 |\n",
    "| `offensive_ranking_away`      | Offensive performance rank of the away team                                 |\n",
    "| `defensive_ranking_away`      | Defensive performance rank of the away team                                 |\n",
    "\n",
    "**Note**: Points and performance stats are aggregated across the season for both home and away teams. These variables are useful in understanding the potential drivers of attendance trends.\n"
   ]
  },
  {
   "cell_type": "markdown",
   "id": "b1421ceb",
   "metadata": {},
   "source": [
    "## Creating Attendance IDs for Splitting the Data into Train, Validation and Test for DBRepo"
   ]
  },
  {
   "cell_type": "code",
   "execution_count": 111,
   "id": "65a162e7",
   "metadata": {},
   "outputs": [],
   "source": [
    "df = df.sample(frac=1, random_state=12335272).reset_index(drop=True)\n",
    "\n",
    "\n",
    "df['attendance_id'] = df.index\n",
    "\n",
    "\n",
    "cols = ['attendance_id'] + [col for col in df.columns if col != 'attendance_id']\n",
    "df = df[cols]\n"
   ]
  },
  {
   "cell_type": "code",
   "execution_count": null,
   "id": "86228a95",
   "metadata": {},
   "outputs": [],
   "source": [
    "#df.to_csv('data/merged_preprocessed.csv', index=False)"
   ]
  },
  {
   "cell_type": "code",
   "execution_count": 30,
   "id": "6408880c",
   "metadata": {},
   "outputs": [],
   "source": [
    "from dbrepo.RestClient import RestClient\n",
    "from dotenv import load_dotenv\n",
    "import os\n",
    "\n",
    "load_dotenv() \n",
    "password = os.getenv(\"DBREPO_PASSWORD\")\n",
    "\n",
    "client = RestClient(\n",
    "    endpoint=\"https://test.dbrepo.tuwien.ac.at\",\n",
    "    username=\"emilp-tuwien\",\n",
    "    password=password\n",
    ")\n",
    "training = client.get_identifier_data(identifier_id=\"56171866-21d8-4b89-a44c-a3044bf2d43d\")\n",
    "validation = client.get_identifier_data(identifier_id=\"e336829d-fefb-4a09-95f9-0196ee3fc194\")\n",
    "test =  client.get_identifier_data(identifier_id=\"a8b213d1-c66b-417d-8fc0-aa2bb9393ad2\")\n"
   ]
  },
  {
   "cell_type": "code",
   "execution_count": null,
   "id": "98618092",
   "metadata": {},
   "outputs": [
    {
     "name": "stdout",
     "output_type": "stream",
     "text": [
      "<class 'pandas.core.frame.DataFrame'>\n",
      "RangeIndex: 3365 entries, 0 to 3364\n",
      "Data columns (total 45 columns):\n",
      " #   Column                          Non-Null Count  Dtype \n",
      "---  ------                          --------------  ----- \n",
      " 0   attendance_id                   3365 non-null   object\n",
      " 1   team_name_home                  3365 non-null   object\n",
      " 2   year                            3365 non-null   object\n",
      " 3   home_attendance_last_year_home  3365 non-null   object\n",
      " 4   week                            3365 non-null   object\n",
      " 5   weekly_attendance_home          3365 non-null   object\n",
      " 6   wins_home                       3365 non-null   object\n",
      " 7   loss                            3365 non-null   object\n",
      " 8   points_for_home                 3365 non-null   object\n",
      " 9   points_against_home             3365 non-null   object\n",
      " 10  points_differential_home        3365 non-null   object\n",
      " 11  margin_of_victory_home          3365 non-null   object\n",
      " 12  strength_of_schedule_home       3365 non-null   object\n",
      " 13  simple_rating_home              3365 non-null   object\n",
      " 14  offensive_ranking_home          3365 non-null   object\n",
      " 15  defensive_ranking_home          3365 non-null   object\n",
      " 16  playoffs_home                   3365 non-null   object\n",
      " 17  sb_winner_home                  3365 non-null   object\n",
      " 18  team_name_away                  3365 non-null   object\n",
      " 19  total_away                      3365 non-null   object\n",
      " 20  home_attendance_last_year_away  3365 non-null   object\n",
      " 21  away_attendance_last_year_away  3365 non-null   object\n",
      " 22  wins_away                       3365 non-null   object\n",
      " 23  points_for_away                 3365 non-null   object\n",
      " 24  points_against_away             3365 non-null   object\n",
      " 25  points_differential_away        3365 non-null   object\n",
      " 26  margin_of_victory_away          3365 non-null   object\n",
      " 27  strength_of_schedule_away       3365 non-null   object\n",
      " 28  simple_rating_away              3365 non-null   object\n",
      " 29  offensive_ranking_away          3365 non-null   object\n",
      " 30  defensive_ranking_away          3365 non-null   object\n",
      " 31  playoffs_away                   3365 non-null   object\n",
      " 32  sb_winner_away                  3365 non-null   object\n",
      " 33  points                          3365 non-null   object\n",
      " 34  yards                           3365 non-null   object\n",
      " 35  turnovers                       3365 non-null   object\n",
      " 36  win                             3365 non-null   object\n",
      " 37  loss_home                       3365 non-null   object\n",
      " 38  tie                             3365 non-null   object\n",
      " 39  points_away                     3365 non-null   object\n",
      " 40  yards_away                      3365 non-null   object\n",
      " 41  turnovers_away                  3365 non-null   object\n",
      " 42  win_away                        3365 non-null   object\n",
      " 43  loss_away                       3365 non-null   object\n",
      " 44  tie_away                        3365 non-null   object\n",
      "dtypes: object(45)\n",
      "memory usage: 1.2+ MB\n"
     ]
    }
   ],
   "source": [
    "training.info()"
   ]
  },
  {
   "cell_type": "markdown",
   "id": "274a530f",
   "metadata": {},
   "source": [
    "# Model\n",
    "\n",
    "We can now begin building the Random Forest model, but first, the categorical features need to be one-hot encoded."
   ]
  },
  {
   "cell_type": "code",
   "execution_count": 32,
   "id": "0a983b7d",
   "metadata": {},
   "outputs": [],
   "source": [
    "\n",
    "training = pd.get_dummies(training, columns=['team_name_home', 'team_name_away'])\n",
    "validation = pd.get_dummies(validation, columns=['team_name_home', 'team_name_away'])\n",
    "test = pd.get_dummies(test, columns=['team_name_home', 'team_name_away'])\n"
   ]
  },
  {
   "cell_type": "markdown",
   "id": "eeb93026",
   "metadata": {},
   "source": [
    "Logical values have to be processed."
   ]
  },
  {
   "cell_type": "code",
   "execution_count": null,
   "id": "f3e834d0",
   "metadata": {},
   "outputs": [],
   "source": [
    "def convert_bool_strings(df):\n",
    "    return df.replace({'true': 1, 'false': 0, 'True': 1, 'False': 0})\n",
    "\n",
    "training = convert_bool_strings(training)\n",
    "validation = convert_bool_strings(validation)\n",
    "test = convert_bool_strings(test)\n"
   ]
  },
  {
   "cell_type": "markdown",
   "id": "5ff54b2a",
   "metadata": {},
   "source": [
    "Numerical values have to be scaled"
   ]
  },
  {
   "cell_type": "code",
   "execution_count": null,
   "id": "219bd4ca",
   "metadata": {},
   "outputs": [
    {
     "name": "stderr",
     "output_type": "stream",
     "text": [
      "/var/folders/db/djqfj81d1vs_17ntzp2n867m0000gn/T/ipykernel_79476/2912952260.py:2: FutureWarning: Downcasting behavior in `replace` is deprecated and will be removed in a future version. To retain the old behavior, explicitly call `result.infer_objects(copy=False)`. To opt-in to the future behavior, set `pd.set_option('future.no_silent_downcasting', True)`\n",
      "  return df.replace({'true': 1, 'false': 0, 'True': 1, 'False': 0})\n"
     ]
    }
   ],
   "source": [
    "target = 'weekly_attendance_home'\n",
    "\n",
    "# Separate features and labels\n",
    "X_train, y_train = training.drop(columns=[target]), training[target]\n",
    "X_val, y_val = validation.drop(columns=[target]), validation[target]\n",
    "X_test, y_test = test.drop(columns=[target]), test[target]\n",
    "\n",
    "scaler = StandardScaler()\n",
    "scaler.fit(X_train)\n",
    "\n",
    "### SCALING X \n",
    "\n",
    "X_train_scaled = scaler.transform(X_train)\n",
    "X_val_scaled = scaler.transform(X_val)\n",
    "X_test_scaled = scaler.transform(X_test)\n",
    "\n",
    "\n",
    "### SCALING Y \n",
    "target_scaler = StandardScaler()\n",
    "target_scaler.fit(y_train.values.reshape(-1, 1))\n",
    "\n",
    "y_train_scaled = target_scaler.transform(y_train.values.reshape(-1, 1)).flatten()\n",
    "y_val_scaled = target_scaler.transform(y_val.values.reshape(-1, 1)).flatten()\n",
    "y_test_scaled = target_scaler.transform(y_test.values.reshape(-1, 1)).flatten()"
   ]
  },
  {
   "cell_type": "code",
   "execution_count": null,
   "id": "22a83859",
   "metadata": {},
   "outputs": [],
   "source": [
    "with open(\"scaler.pkl\", \"wb\") as f:\n",
    "    pickle.dump(scaler, f)"
   ]
  },
  {
   "cell_type": "code",
   "execution_count": null,
   "id": "907609fc",
   "metadata": {},
   "outputs": [
    {
     "name": "stdout",
     "output_type": "stream",
     "text": [
      "(InvenioRDM) Enter your API token for 'https://test.researchdata.tuwien.ac.at/api'\n"
     ]
    },
    {
     "data": {
      "text/plain": [
       "('https://test.researchdata.tuwien.ac.at', 'zmp8r-smf36', 'scaler.pkl')"
      ]
     },
     "execution_count": 101,
     "metadata": {},
     "output_type": "execute_result"
    }
   ],
   "source": [
    "vrc.upload(\"scaler.pkl\", url=\"https://test.researchdata.tuwien.ac.at\")"
   ]
  },
  {
   "cell_type": "code",
   "execution_count": 94,
   "id": "bf877189",
   "metadata": {},
   "outputs": [],
   "source": [
    "with open(\"target_scaler.pkl\", \"wb\") as f:\n",
    "    pickle.dump(target_scaler, f)"
   ]
  },
  {
   "cell_type": "code",
   "execution_count": 95,
   "id": "1754fc6d",
   "metadata": {},
   "outputs": [
    {
     "name": "stdout",
     "output_type": "stream",
     "text": [
      "(InvenioRDM) Enter your API token for 'https://test.researchdata.tuwien.ac.at/api'\n"
     ]
    },
    {
     "data": {
      "text/plain": [
       "('https://test.researchdata.tuwien.ac.at', 'x7rq7-s2c72', 'target_scaler.pkl')"
      ]
     },
     "execution_count": 95,
     "metadata": {},
     "output_type": "execute_result"
    }
   ],
   "source": [
    "vrc.upload(\"target_scaler.pkl\", url=\"https://test.researchdata.tuwien.ac.at\")"
   ]
  },
  {
   "cell_type": "markdown",
   "id": "674303dd",
   "metadata": {},
   "source": [
    "## Hyperparameter Tuning"
   ]
  },
  {
   "cell_type": "code",
   "execution_count": 93,
   "id": "0ca53572",
   "metadata": {},
   "outputs": [],
   "source": [
    "param_grid = {\n",
    "    'n_estimators': [50, 100, 150, 200, 250],  # Default: 100, added: 50 150 and 200 250\n",
    "    'max_depth': [None, 10, 50],    # default: None, added: 10 \n",
    "    'min_samples_split': [2, 5],    # default: 2, added: 5\n",
    "    'min_samples_leaf': [1, 3, 7],     # default: 1, added: 3\n",
    "    'max_features': [None, 'sqrt', 'log2'] # default: None, added: sqrt log2\n",
    "}\n",
    "\n",
    "grid_search = GridSearchCV(\n",
    "    RandomForestRegressor(random_state=12335272),\n",
    "    param_grid,\n",
    "    cv=3,\n",
    "    n_jobs=10,\n",
    "    scoring='neg_mean_absolute_error'\n",
    ")\n",
    "\n",
    "grid_search.fit(X_train_scaled, y_train_scaled)\n",
    "\n",
    "best_model = grid_search.best_estimator_\n",
    "\n",
    "y_val_pred = best_model.predict(X_val_scaled)\n",
    "\n",
    "y_val_pred_orig = target_scaler.inverse_transform(y_val_pred.reshape(-1, 1)).flatten()\n",
    "y_val_orig = target_scaler.inverse_transform(y_val_scaled.reshape(-1, 1)).flatten()\n",
    "\n",
    "mae = mean_absolute_error(y_val_orig, y_val_pred_orig)\n",
    "mse = mean_squared_error(y_val_orig, y_val_pred_orig)\n",
    "r2 = r2_score(y_val_orig, y_val_pred_orig)\n"
   ]
  },
  {
   "cell_type": "code",
   "execution_count": 96,
   "id": "c0958108",
   "metadata": {},
   "outputs": [
    {
     "name": "stdout",
     "output_type": "stream",
     "text": [
      "✅ Validation results saved to 'rf_validation_results.txt'\n"
     ]
    }
   ],
   "source": [
    "# Create a detailed results summary\n",
    "validation_results_txt = f\"\"\"\n",
    "==========================================================\n",
    "     Random Forest Regressor — Validation Set Results\n",
    "==========================================================\n",
    "\n",
    "📈 Validation Set Metrics (Original Scale):\n",
    "   • Mean Absolute Error (MAE): {mae:,.2f}\n",
    "   • Mean Squared Error (MSE):  {mse:,.2f}\n",
    "   • R² Score:                  {r2:.4f}\n",
    "\n",
    "----------------------------------------------------------\n",
    "🧠 Model Overview:\n",
    "----------------------------------------------------------\n",
    "• Model Type: Random Forest Regressor\n",
    "• Source: sklearn.ensemble.RandomForestRegressor\n",
    "• Python Version: 3.13.1\n",
    "• Libraries Used: scikit-learn, pandas, numpy\n",
    "\n",
    "• Hyperparameter Tuning:\n",
    "  - Method: GridSearchCV with 3-fold cross-validation\n",
    "  - Scoring: Negative Mean Absolute Error (neg_mean_absolute_error)\n",
    "\n",
    "• Best Hyperparameters:\n",
    "  - n_estimators:      {best_model.n_estimators}\n",
    "  - max_depth:         {best_model.max_depth}\n",
    "  - min_samples_split: {best_model.min_samples_split}\n",
    "  - min_samples_leaf:  {best_model.min_samples_leaf}\n",
    "  - max_features:      {best_model.max_features}\n",
    "\n",
    "----------------------------------------------------------\n",
    "📦 Dataset & Preprocessing:\n",
    "----------------------------------------------------------\n",
    "• Dataset: Merged NFL Stadium Attendance Dataset from Kaggle  \n",
    "  ↳ https://www.kaggle.com/datasets/sujaykapadnis/nfl-stadium-attendance-dataset\n",
    "\n",
    "• Merged Files:\n",
    "  - games.csv\n",
    "  - standings.csv\n",
    "  - attendance.csv\n",
    "\n",
    "• Target Variable: Weekly stadium attendance\n",
    "\n",
    "• Preprocessing:\n",
    "  - Categorical features → one-hot encoded\n",
    "  - Numerical features   → scaled using StandardScaler\n",
    "  - Target variable      → scaled using StandardScaler\n",
    "\n",
    "• Data Split:\n",
    "  - Training:   70%\n",
    "  - Validation: 15% (used for evaluating model generalization)\n",
    "  - Test:       15% (not used in this evaluation)\n",
    "\n",
    "----------------------------------------------------------\n",
    "📁 File Info:\n",
    "----------------------------------------------------------\n",
    "• This file: rf_validation_results.txt\n",
    "• Model file: best_model.pkl\n",
    "• Scalers:    scaler.pkl, target_scaler.pkl\n",
    "• Notebook:   prediction.ipynb\n",
    "\n",
    "\"\"\"\n",
    "\n",
    "# Save to txt\n",
    "with open(\"rf_validation_results.txt\", \"w\") as f:\n",
    "    f.write(validation_results_txt)\n",
    "\n",
    "print(\"✅ Validation results saved to 'rf_validation_results.txt'\")"
   ]
  },
  {
   "cell_type": "code",
   "execution_count": 97,
   "id": "0e1ad2e6",
   "metadata": {},
   "outputs": [
    {
     "name": "stdout",
     "output_type": "stream",
     "text": [
      "(InvenioRDM) Enter your API token for 'https://test.researchdata.tuwien.ac.at/api'\n"
     ]
    },
    {
     "data": {
      "text/plain": [
       "('https://test.researchdata.tuwien.ac.at',\n",
       " 'e3ge6-0yy80',\n",
       " 'rf_validation_results.txt')"
      ]
     },
     "execution_count": 97,
     "metadata": {},
     "output_type": "execute_result"
    }
   ],
   "source": [
    "vrc.upload(\"rf_validation_results.txt\", url=\"https://test.researchdata.tuwien.ac.at\")"
   ]
  },
  {
   "cell_type": "code",
   "execution_count": 87,
   "id": "1c109177",
   "metadata": {},
   "outputs": [
    {
     "data": {
      "text/plain": [
       "{'max_depth': None,\n",
       " 'max_features': None,\n",
       " 'min_samples_leaf': 3,\n",
       " 'min_samples_split': 2,\n",
       " 'n_estimators': 250}"
      ]
     },
     "execution_count": 87,
     "metadata": {},
     "output_type": "execute_result"
    }
   ],
   "source": [
    "grid_search.best_params_"
   ]
  },
  {
   "cell_type": "code",
   "execution_count": 83,
   "id": "23da4d6f",
   "metadata": {},
   "outputs": [
    {
     "name": "stdout",
     "output_type": "stream",
     "text": [
      "(InvenioRDM) Enter your API token for 'https://test.researchdata.tuwien.ac.at/api'\n"
     ]
    },
    {
     "data": {
      "text/plain": [
       "('https://test.researchdata.tuwien.ac.at',\n",
       " '9bnb9-n0c65',\n",
       " 'hyp_tuning_best_model.pkl')"
      ]
     },
     "execution_count": 83,
     "metadata": {},
     "output_type": "execute_result"
    }
   ],
   "source": [
    "import pickle\n",
    "\n",
    "with open(\"hyp_tuning_best_model.pkl\", \"wb\") as f:\n",
    "    pickle.dump(best_model, f)\n",
    "\n",
    "vrc.upload(\"hyp_tuning_best_model.pkl\", url=\"https://test.researchdata.tuwien.ac.at\")\n"
   ]
  },
  {
   "cell_type": "code",
   "execution_count": 98,
   "id": "fabe1fbe",
   "metadata": {},
   "outputs": [
    {
     "data": {
      "image/png": "[encoded data removed]",
      "text/plain": [
       "<Figure size 1000x600 with 1 Axes>"
      ]
     },
     "metadata": {},
     "output_type": "display_data"
    }
   ],
   "source": [
    "n_estimators_range = [50, 100, 150, 200, 250, 300, 500]\n",
    "\n",
    "mae_scores = []\n",
    "\n",
    "for n in n_estimators_range:\n",
    "    model = RandomForestRegressor(\n",
    "        n_estimators=n,\n",
    "        max_depth=None, \n",
    "        min_samples_split=2,  \n",
    "        min_samples_leaf=3, \n",
    "        max_features=None,\n",
    "        random_state=12335272\n",
    "    )\n",
    "    model.fit(X_train_scaled, y_train_scaled)\n",
    "    \n",
    "    y_val_pred = model.predict(X_val_scaled)\n",
    "    y_val_pred_orig = target_scaler.inverse_transform(y_val_pred.reshape(-1, 1)).flatten()\n",
    "    y_val_orig = target_scaler.inverse_transform(y_val_scaled.reshape(-1, 1)).flatten()\n",
    "    \n",
    "    mae = mean_absolute_error(y_val_orig, y_val_pred_orig)\n",
    "    mae_scores.append(mae)\n",
    "\n",
    "\n",
    "plt.figure(figsize=(10, 6))\n",
    "plt.plot(n_estimators_range, mae_scores, marker='o', linestyle='-', color='b')\n",
    "plt.xlabel(\"Number of Estimators (n_estimators)\")\n",
    "plt.ylabel(\"Mean Absolute Error (MAE)\")\n",
    "plt.title(\"Performance vs. Number of Estimators\")\n",
    "plt.grid()\n",
    "plt.savefig(\"mae_vs_estimators.png\", dpi=300, bbox_inches='tight')\n",
    "plt.show()\n"
   ]
  },
  {
   "cell_type": "code",
   "execution_count": 99,
   "id": "594483f5",
   "metadata": {},
   "outputs": [
    {
     "name": "stdout",
     "output_type": "stream",
     "text": [
      "(InvenioRDM) Enter your API token for 'https://test.researchdata.tuwien.ac.at/api'\n"
     ]
    },
    {
     "data": {
      "text/plain": [
       "('https://test.researchdata.tuwien.ac.at',\n",
       " '9z39d-eze67',\n",
       " 'mae_vs_estimators.png')"
      ]
     },
     "execution_count": 99,
     "metadata": {},
     "output_type": "execute_result"
    }
   ],
   "source": [
    "vrc.upload(\"mae_vs_estimators.png\", url=\"https://test.researchdata.tuwien.ac.at\")"
   ]
  },
  {
   "cell_type": "markdown",
   "id": "0cb90c1f",
   "metadata": {},
   "source": [
    "# Evaluation on Test Data"
   ]
  },
  {
   "cell_type": "code",
   "execution_count": null,
   "id": "3c97696d",
   "metadata": {},
   "outputs": [
    {
     "name": "stdout",
     "output_type": "stream",
     "text": [
      "Test Set Performance Scaled:\n",
      "MAE: 0.2179\n",
      "MSE: 0.1896\n",
      "Test Set Performance Unscaled:\n",
      "MAE: 1914.2333\n",
      "MSE: 14626303.5872\n",
      "R-squared: 0.8217\n"
     ]
    }
   ],
   "source": [
    "y_test_pred = best_model.predict(X_test_scaled)\n",
    "\n",
    "mae_test_scaled = mean_absolute_error(y_test_scaled, y_test_pred)\n",
    "mse_test_scaled = mean_squared_error(y_test_scaled, y_test_pred)\n",
    "\n",
    "y_test_pred_orig = target_scaler.inverse_transform(y_test_pred.reshape(-1, 1)).flatten()\n",
    "y_test_orig = target_scaler.inverse_transform(y_test_scaled.reshape(-1, 1)).flatten()\n",
    "\n",
    "mae = mean_absolute_error(y_test_orig, y_test_pred_orig)\n",
    "mse = mean_squared_error(y_test_orig, y_test_pred_orig)\n",
    "r2 = r2_score(y_test_orig, y_test_pred_orig)"
   ]
  },
  {
   "cell_type": "code",
   "execution_count": 91,
   "id": "02235ce2",
   "metadata": {},
   "outputs": [
    {
     "name": "stdout",
     "output_type": "stream",
     "text": [
      "✅ Descriptive results saved to 'rf_test_results.txt'\n"
     ]
    }
   ],
   "source": [
    "# Formatted string for results\n",
    "results_txt = f\"\"\"\n",
    "==========================================================\n",
    "     Random Forest Regressor — Test Set Evaluation\n",
    "==========================================================\n",
    "\n",
    "📊 Scaled Test Set Metrics:\n",
    "   • Mean Absolute Error (MAE): {mae_test_scaled:.4f}\n",
    "   • Mean Squared Error (MSE):  {mse_test_scaled:.4f}\n",
    "\n",
    "📈 Unscaled Test Set Metrics (Original Scale):\n",
    "   • Mean Absolute Error (MAE): {mae:,.2f}\n",
    "   • Mean Squared Error (MSE):  {mse:,.2f}\n",
    "   • R² Score:                  {r2:.4f}\n",
    "\n",
    "----------------------------------------------------------\n",
    "🧠 Model Overview:\n",
    "----------------------------------------------------------\n",
    "• Model Type: Random Forest Regressor\n",
    "• Implementation: sklearn.ensemble.RandomForestRegressor\n",
    "• Python Version: 3.13.1\n",
    "• Libraries Used: scikit-learn, pandas, numpy, matplotlib\n",
    "\n",
    "• Hyperparameter Tuning:\n",
    "  - Method: GridSearchCV with 3-fold cross-validation\n",
    "  - Scoring: Negative Mean Absolute Error (neg_mean_absolute_error)\n",
    "\n",
    "• Best Hyperparameters:\n",
    "  - n_estimators:      250\n",
    "  - max_depth:         None\n",
    "  - min_samples_split: 2\n",
    "  - min_samples_leaf:  3\n",
    "  - max_features:      None\n",
    "\n",
    "----------------------------------------------------------\n",
    "📦 Dataset & Preprocessing:\n",
    "----------------------------------------------------------\n",
    "• Source Dataset: NFL Stadium Attendance Dataset  \n",
    "  ↳ https://www.kaggle.com/datasets/sujaykapadnis/nfl-stadium-attendance-dataset  \n",
    "  ↳ Creator: Sujay Kapadnis\n",
    "\n",
    "• Merged Files:\n",
    "  - games.csv\n",
    "  - standings.csv\n",
    "  - attendance.csv\n",
    "\n",
    "• Target Variable: Weekly NFL stadium attendance\n",
    "\n",
    "• Feature Engineering:\n",
    "  - Categorical features → one-hot encoded\n",
    "  - Numerical features   → scaled using StandardScaler\n",
    "  - Target variable      → scaled using StandardScaler (for training)\n",
    "\n",
    "• Data Split:\n",
    "  - Training:   70%\n",
    "  - Validation: 15% (used in GridSearchCV for CV folds)\n",
    "  - Test:       15% (used for final performance evaluation)\n",
    "\n",
    "----------------------------------------------------------\n",
    "📁 File Info:\n",
    "----------------------------------------------------------\n",
    "• This file: rf_test_results.txt\n",
    "• Model file: best_model.pkl\n",
    "• Scalers:    scaler.pkl, target_scaler.pkl\n",
    "• Notebook:   prediction.ipynb (full pipeline)\n",
    "\n",
    "\"\"\"\n",
    "\n",
    "# Save to txt file\n",
    "with open(\"rf_test_results.txt\", \"w\") as f:\n",
    "    f.write(results_txt)\n",
    "\n",
    "print(\"✅ Descriptive results saved to 'rf_test_results.txt'\")\n"
   ]
  },
  {
   "cell_type": "code",
   "execution_count": 92,
   "id": "7ddc3027",
   "metadata": {},
   "outputs": [
    {
     "name": "stdout",
     "output_type": "stream",
     "text": [
      "(InvenioRDM) Enter your API token for 'https://test.researchdata.tuwien.ac.at/api'\n"
     ]
    },
    {
     "data": {
      "text/plain": [
       "('https://test.researchdata.tuwien.ac.at',\n",
       " '7reyq-53v82',\n",
       " 'rf_test_results.txt')"
      ]
     },
     "execution_count": 92,
     "metadata": {},
     "output_type": "execute_result"
    }
   ],
   "source": [
    "vrc.upload(\"rf_test_results.txt\", url=\"https://test.researchdata.tuwien.ac.at\")"
   ]
  },
  {
   "cell_type": "markdown",
   "id": "c4d63fd9",
   "metadata": {},
   "source": [
    "# Uploading Figure to TUWRD"
   ]
  },
  {
   "cell_type": "code",
   "execution_count": null,
   "id": "659c3573",
   "metadata": {},
   "outputs": [
    {
     "name": "stdout",
     "output_type": "stream",
     "text": [
      "(InvenioRDM) Enter your API token for 'https://test.researchdata.tuwien.ac.at/api'\n"
     ]
    },
    {
     "data": {
      "text/plain": [
       "('https://test.researchdata.tuwien.ac.at',\n",
       " 't6nzg-pyp07',\n",
       " 'mae_vs_estimators.png')"
      ]
     },
     "execution_count": 62,
     "metadata": {},
     "output_type": "execute_result"
    }
   ],
   "source": [
    "#vrc.upload(\"mae_vs_estimators.png\", url=\"https://test.researchdata.tuwien.ac.at\")"
   ]
  }
 ],
 "metadata": {
  "kernelspec": {
   "display_name": "venv",
   "language": "python",
   "name": "python3"
  },
  "language_info": {
   "codemirror_mode": {
    "name": "ipython",
    "version": 3
   },
   "file_extension": ".py",
   "mimetype": "text/x-python",
   "name": "python",
   "nbconvert_exporter": "python",
   "pygments_lexer": "ipython3",
   "version": "3.13.1"
  }
 },
 "nbformat": 4,
 "nbformat_minor": 5
}
